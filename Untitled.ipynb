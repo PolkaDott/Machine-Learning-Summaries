{
 "cells": [
  {
   "cell_type": "code",
   "execution_count": 2,
   "id": "86f1d3a2-5ff3-44f8-ae70-b8eee778f8f8",
   "metadata": {},
   "outputs": [],
   "source": [
    "import os"
   ]
  },
  {
   "cell_type": "code",
   "execution_count": 13,
   "id": "6f361f66-c506-4286-b975-a227dfaeaa81",
   "metadata": {},
   "outputs": [],
   "source": [
    "dirs = os.listdir()\n",
    "white_list_dirs = ['Мат.Статистика', 'Язык R']\n",
    "dirs = list(filter(lambda x: x in white_list_dirs, dirs))\n",
    "files = []\n",
    "for dir in dirs:\n",
    "    mds = list(filter(lambda x: x.endswith('.md'), os.listdir(dir)))\n",
    "    mds = list(map(lambda x: dir+'/'+x, mds))\n",
    "    files = files + mds\n"
   ]
  }
 ],
 "metadata": {
  "kernelspec": {
   "display_name": "Python 3 (ipykernel)",
   "language": "python",
   "name": "python3"
  },
  "language_info": {
   "codemirror_mode": {
    "name": "ipython",
    "version": 3
   },
   "file_extension": ".py",
   "mimetype": "text/x-python",
   "name": "python",
   "nbconvert_exporter": "python",
   "pygments_lexer": "ipython3",
   "version": "3.9.12"
  }
 },
 "nbformat": 4,
 "nbformat_minor": 5
}
