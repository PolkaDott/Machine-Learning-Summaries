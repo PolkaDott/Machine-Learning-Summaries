{
 "cells": [
  {
   "cell_type": "code",
   "execution_count": 23,
   "id": "86f1d3a2-5ff3-44f8-ae70-b8eee778f8f8",
   "metadata": {},
   "outputs": [],
   "source": [
    "import os, re"
   ]
  },
  {
   "cell_type": "code",
   "execution_count": 13,
   "id": "6f361f66-c506-4286-b975-a227dfaeaa81",
   "metadata": {},
   "outputs": [],
   "source": [
    "dirs = os.listdir()\n",
    "white_list_dirs = ['Мат.Статистика', 'Язык R']\n",
    "dirs = list(filter(lambda x: x in white_list_dirs, dirs))\n",
    "files = []\n",
    "for dir in dirs:\n",
    "    mds = list(filter(lambda x: x.endswith('.md'), os.listdir(dir)))\n",
    "    mds = list(map(lambda x: dir+'/'+x, mds))\n",
    "    files = files + mds\n"
   ]
  },
  {
   "cell_type": "raw",
   "id": "2af6dafa-504e-4fd2-8c02-2c2c9bfd504c",
   "metadata": {},
   "source": [
    "![[Pasted image 20220909160547.png|300]]    \n",
    "![График выборок|300](https://github.com/PolkaDott/GuineaPig-Researching/blob/main/screenshots/boxplot.png?raw=true)  "
   ]
  },
  {
   "cell_type": "code",
   "execution_count": 48,
   "id": "a4f5cc54-99a2-46fe-9813-d37835858c06",
   "metadata": {},
   "outputs": [],
   "source": [
    "with open('Графики.md', 'r', encoding='utf-8') as f:\n",
    "    text = f.read()\n",
    "    text = text.replace('  \\n', '\\n')\n",
    "    text = text.replace('\\n', '  \\n')\n",
    "    re.search(r'!\\[\\[\\w.+\\]\\]', text)\n",
    "    f.close()\n",
    "with open('Графики.md', 'w', encoding='utf-8') as f:\n",
    "    f.write(text)"
   ]
  },
  {
   "cell_type": "code",
   "execution_count": 52,
   "id": "3e802bfa-f5e9-417c-99b2-403a96354f6d",
   "metadata": {},
   "outputs": [
    {
     "name": "stdout",
     "output_type": "stream",
     "text": [
      "1\n"
     ]
    }
   ],
   "source": [
    "with open('Графики.md', 'r', encoding='utf-8') as f:\n",
    "    text = f.read() \n",
    "    pattern = r'!\\[\\[\\w.+\\]\\]'\n",
    "    counter = 0\n",
    "    while True:\n",
    "        counter += 1\n",
    "        match = re.search(pattern, text)\n",
    "        if not match:\n",
    "            break\n",
    "        span = match.span()\n",
    "        img = text[span[0]:span[1]][3:-2]\n",
    "        if '|' in img:\n",
    "            name, size = img.split('|')\n",
    "            raw_name = name\n",
    "            name = name.replace(' ', '%20')\n",
    "            new_img = f'![{raw_name}|{size}](https://github.com/PolkaDott/Data-Science-Summaries/blob/main/Язык%20R/attachments/{name}?raw=true)'\n",
    "        else:\n",
    "            name = img\n",
    "            raw_name = name\n",
    "            name = name.replace(' ', '%20')\n",
    "            new_img = f'![{raw_name}](https://github.com/PolkaDott/Data-Science-Summaries/blob/main/Язык%20R/attachments/{name}?raw=true)'\n",
    "        text = re.sub(pattern, new_img, text, count=1)\n",
    "print(counter)\n",
    "with open('Графики.md', 'w', encoding='utf-8') as f:\n",
    "    f.write(text)"
   ]
  }
 ],
 "metadata": {
  "kernelspec": {
   "display_name": "Python 3 (ipykernel)",
   "language": "python",
   "name": "python3"
  },
  "language_info": {
   "codemirror_mode": {
    "name": "ipython",
    "version": 3
   },
   "file_extension": ".py",
   "mimetype": "text/x-python",
   "name": "python",
   "nbconvert_exporter": "python",
   "pygments_lexer": "ipython3",
   "version": "3.9.12"
  }
 },
 "nbformat": 4,
 "nbformat_minor": 5
}
